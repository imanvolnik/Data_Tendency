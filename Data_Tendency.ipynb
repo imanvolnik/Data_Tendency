{
 "cells": [
  {
   "cell_type": "code",
   "execution_count": 1,
   "id": "372a32b4-8321-4261-a7ec-5706b78f751b",
   "metadata": {},
   "outputs": [],
   "source": [
    "import pandas as pd\n",
    "import numpy as np\n",
    "import matplotlib.pyplot as plt\n",
    "import seaborn as sns"
   ]
  },
  {
   "cell_type": "markdown",
   "id": "04f86d3e-4740-4c61-b97a-fe70c68e3adb",
   "metadata": {},
   "source": [
    "# **Data Tendency**"
   ]
  },
  {
   "cell_type": "code",
   "execution_count": 2,
   "id": "19996be7-401a-45fb-931b-695273d54d14",
   "metadata": {},
   "outputs": [
    {
     "data": {
      "text/html": [
       "<div>\n",
       "<style scoped>\n",
       "    .dataframe tbody tr th:only-of-type {\n",
       "        vertical-align: middle;\n",
       "    }\n",
       "\n",
       "    .dataframe tbody tr th {\n",
       "        vertical-align: top;\n",
       "    }\n",
       "\n",
       "    .dataframe thead th {\n",
       "        text-align: right;\n",
       "    }\n",
       "</style>\n",
       "<table border=\"1\" class=\"dataframe\">\n",
       "  <thead>\n",
       "    <tr style=\"text-align: right;\">\n",
       "      <th></th>\n",
       "      <th>Person ID</th>\n",
       "      <th>Gender</th>\n",
       "      <th>Age</th>\n",
       "      <th>Occupation</th>\n",
       "      <th>Sleep Duration</th>\n",
       "      <th>Quality of Sleep</th>\n",
       "      <th>Physical Activity Level</th>\n",
       "      <th>Stress Level</th>\n",
       "      <th>BMI Category</th>\n",
       "      <th>Blood Pressure</th>\n",
       "      <th>Heart Rate</th>\n",
       "      <th>Daily Steps</th>\n",
       "      <th>Sleep Disorder</th>\n",
       "    </tr>\n",
       "  </thead>\n",
       "  <tbody>\n",
       "    <tr>\n",
       "      <th>0</th>\n",
       "      <td>1</td>\n",
       "      <td>Male</td>\n",
       "      <td>27</td>\n",
       "      <td>Software Engineer</td>\n",
       "      <td>6.1</td>\n",
       "      <td>6</td>\n",
       "      <td>42</td>\n",
       "      <td>6</td>\n",
       "      <td>Overweight</td>\n",
       "      <td>126/83</td>\n",
       "      <td>77</td>\n",
       "      <td>4200</td>\n",
       "      <td>NaN</td>\n",
       "    </tr>\n",
       "    <tr>\n",
       "      <th>1</th>\n",
       "      <td>2</td>\n",
       "      <td>Male</td>\n",
       "      <td>28</td>\n",
       "      <td>Doctor</td>\n",
       "      <td>6.2</td>\n",
       "      <td>6</td>\n",
       "      <td>60</td>\n",
       "      <td>8</td>\n",
       "      <td>Normal</td>\n",
       "      <td>125/80</td>\n",
       "      <td>75</td>\n",
       "      <td>10000</td>\n",
       "      <td>NaN</td>\n",
       "    </tr>\n",
       "    <tr>\n",
       "      <th>2</th>\n",
       "      <td>3</td>\n",
       "      <td>Male</td>\n",
       "      <td>28</td>\n",
       "      <td>Doctor</td>\n",
       "      <td>6.2</td>\n",
       "      <td>6</td>\n",
       "      <td>60</td>\n",
       "      <td>8</td>\n",
       "      <td>Normal</td>\n",
       "      <td>125/80</td>\n",
       "      <td>75</td>\n",
       "      <td>10000</td>\n",
       "      <td>NaN</td>\n",
       "    </tr>\n",
       "    <tr>\n",
       "      <th>3</th>\n",
       "      <td>4</td>\n",
       "      <td>Male</td>\n",
       "      <td>28</td>\n",
       "      <td>Sales Representative</td>\n",
       "      <td>5.9</td>\n",
       "      <td>4</td>\n",
       "      <td>30</td>\n",
       "      <td>8</td>\n",
       "      <td>Obese</td>\n",
       "      <td>140/90</td>\n",
       "      <td>85</td>\n",
       "      <td>3000</td>\n",
       "      <td>Sleep Apnea</td>\n",
       "    </tr>\n",
       "    <tr>\n",
       "      <th>4</th>\n",
       "      <td>5</td>\n",
       "      <td>Male</td>\n",
       "      <td>28</td>\n",
       "      <td>Sales Representative</td>\n",
       "      <td>5.9</td>\n",
       "      <td>4</td>\n",
       "      <td>30</td>\n",
       "      <td>8</td>\n",
       "      <td>Obese</td>\n",
       "      <td>140/90</td>\n",
       "      <td>85</td>\n",
       "      <td>3000</td>\n",
       "      <td>Sleep Apnea</td>\n",
       "    </tr>\n",
       "  </tbody>\n",
       "</table>\n",
       "</div>"
      ],
      "text/plain": [
       "   Person ID Gender  Age            Occupation  Sleep Duration  \\\n",
       "0          1   Male   27     Software Engineer             6.1   \n",
       "1          2   Male   28                Doctor             6.2   \n",
       "2          3   Male   28                Doctor             6.2   \n",
       "3          4   Male   28  Sales Representative             5.9   \n",
       "4          5   Male   28  Sales Representative             5.9   \n",
       "\n",
       "   Quality of Sleep  Physical Activity Level  Stress Level BMI Category  \\\n",
       "0                 6                       42             6   Overweight   \n",
       "1                 6                       60             8       Normal   \n",
       "2                 6                       60             8       Normal   \n",
       "3                 4                       30             8        Obese   \n",
       "4                 4                       30             8        Obese   \n",
       "\n",
       "  Blood Pressure  Heart Rate  Daily Steps Sleep Disorder  \n",
       "0         126/83          77         4200            NaN  \n",
       "1         125/80          75        10000            NaN  \n",
       "2         125/80          75        10000            NaN  \n",
       "3         140/90          85         3000    Sleep Apnea  \n",
       "4         140/90          85         3000    Sleep Apnea  "
      ]
     },
     "execution_count": 2,
     "metadata": {},
     "output_type": "execute_result"
    }
   ],
   "source": [
    "df = pd.read_csv(\"Data_Sets\\\\Sleep_health_and_lifestyle_dataset.csv\")\n",
    "df.head(5)"
   ]
  },
  {
   "cell_type": "markdown",
   "id": "36cc4026-a840-4c7c-a5d4-d29e8b1a9b26",
   "metadata": {
    "jp-MarkdownHeadingCollapsed": true
   },
   "source": [
    "## **Percentiles**"
   ]
  },
  {
   "cell_type": "markdown",
   "id": "1e26f097-f79f-4b4a-85d9-4eb798796651",
   "metadata": {},
   "source": [
    "### Percentile: the value below which a percentage of data falls."
   ]
  },
  {
   "cell_type": "markdown",
   "id": "30962d4d-33f8-4e03-990c-a3d57cd6f782",
   "metadata": {},
   "source": [
    "#### Example: Find the 30% percentile for sleeping hours"
   ]
  },
  {
   "cell_type": "code",
   "execution_count": 3,
   "id": "23981a96-99a3-4778-878c-f3adf59b7ee8",
   "metadata": {},
   "outputs": [
    {
     "data": {
      "text/plain": [
       "6.5"
      ]
     },
     "execution_count": 3,
     "metadata": {},
     "output_type": "execute_result"
    }
   ],
   "source": [
    "# we use percentile() function from Numpy to find percentile\n",
    "sleep = df[\"Sleep Duration\"]\n",
    "sleep_percentile30 = np.percentile(sleep, 30)\n",
    "sleep_percentile30"
   ]
  },
  {
   "cell_type": "markdown",
   "id": "ea356f06-63ac-4f0a-8cf6-bcf92747bc88",
   "metadata": {},
   "source": [
    "That means 30% of people sleep less than 6.5 hours"
   ]
  },
  {
   "cell_type": "markdown",
   "id": "7b287053-9e52-4eda-ade5-daaa7e0a5788",
   "metadata": {
    "jp-MarkdownHeadingCollapsed": true
   },
   "source": [
    "## **Standard Deviation and Variance**"
   ]
  },
  {
   "cell_type": "markdown",
   "id": "3ec20d19-d516-498c-9935-3b39ede5f63f",
   "metadata": {},
   "source": [
    "### The Standard Deviation is a measure of how spread out numbers are."
   ]
  },
  {
   "cell_type": "markdown",
   "id": "943caac5-ee5b-46f6-8e1d-0bc041c85eb4",
   "metadata": {},
   "source": [
    "$$\n",
    "s = \\sqrt{\\frac{1}{N-1} \\sum_{i=1}^N (x_i - \\overline{x})^2} \n",
    "$$\n",
    "The formula: it is the square root of the Variance."
   ]
  },
  {
   "cell_type": "markdown",
   "id": "ee63b7ed-3671-49be-961e-6fcf283dd940",
   "metadata": {},
   "source": [
    "### The Variance is the average of the squared differences from the Mean"
   ]
  },
  {
   "cell_type": "markdown",
   "id": "4a7dc486-05be-4588-b5a6-2edbdf16f773",
   "metadata": {},
   "source": [
    "To calculate the variance follow these steps:\n",
    "\n",
    "- Work out the Mean (the simple average of the numbers)\n",
    "- Then for each number: subtract the Mean and square the result (the squared difference).\n",
    "- Then work out the average of those squared differences."
   ]
  },
  {
   "cell_type": "code",
   "execution_count": 4,
   "id": "b64d775b-4067-44c5-af65-85f4cbeba1eb",
   "metadata": {},
   "outputs": [
    {
     "data": {
      "text/plain": [
       "Sleep Duration                0.794592\n",
       "Quality of Sleep              1.195355\n",
       "Physical Activity Level      20.802936\n",
       "Stress Level                  1.772152\n",
       "Heart Rate                    4.130143\n",
       "Daily Steps                1615.751242\n",
       "dtype: float64"
      ]
     },
     "execution_count": 4,
     "metadata": {},
     "output_type": "execute_result"
    }
   ],
   "source": [
    "# We can use the std() function from Numpy to find the standard deviation\n",
    "std = np.std(df[[\"Sleep Duration\", \"Quality of Sleep\", \"Physical Activity Level\", \"Stress Level\", \"Heart Rate\", \"Daily Steps\"]], axis = 0)\n",
    "std"
   ]
  },
  {
   "cell_type": "code",
   "execution_count": 5,
   "id": "a626100b-3a50-46db-b868-3600b773eef1",
   "metadata": {},
   "outputs": [
    {
     "data": {
      "text/plain": [
       "Sleep Duration             6.313769e-01\n",
       "Quality of Sleep           1.428873e+00\n",
       "Physical Activity Level    4.327622e+02\n",
       "Stress Level               3.140524e+00\n",
       "Heart Rate                 1.705808e+01\n",
       "Daily Steps                2.610652e+06\n",
       "dtype: float64"
      ]
     },
     "execution_count": 5,
     "metadata": {},
     "output_type": "execute_result"
    }
   ],
   "source": [
    "# We can use the var() function from Numpy to find the variance\n",
    "var = np.var(df[[\"Sleep Duration\", \"Quality of Sleep\", \"Physical Activity Level\", \"Stress Level\", \"Heart Rate\", \"Daily Steps\"]], axis = 0)\n",
    "var"
   ]
  },
  {
   "cell_type": "markdown",
   "id": "4e12192e-8c74-496b-b20a-edb9c567b072",
   "metadata": {
    "jp-MarkdownHeadingCollapsed": true
   },
   "source": [
    "## **Correlation**"
   ]
  },
  {
   "cell_type": "markdown",
   "id": "ed9e5f8a-e849-4b71-a274-06da50d535b7",
   "metadata": {
    "jp-MarkdownHeadingCollapsed": true
   },
   "source": [
    "### Correlation measures the relationship between two variables."
   ]
  },
  {
   "cell_type": "markdown",
   "id": "186efda1-1ab3-4235-9ad3-97d5d9dec4a4",
   "metadata": {},
   "source": [
    "- Correlation is Positive when the values increase together  \n",
    "- Correlation is Negative when one value decreases as the other increases"
   ]
  },
  {
   "cell_type": "code",
   "execution_count": 6,
   "id": "34f7adb6-fc9a-41f4-b3ce-ae20ad989b84",
   "metadata": {},
   "outputs": [
    {
     "data": {
      "image/png": "[encoded data removed]",
      "text/plain": [
       "<Figure size 640x480 with 1 Axes>"
      ]
     },
     "metadata": {},
     "output_type": "display_data"
    }
   ],
   "source": [
    "# Let's see a correlation between Sleep Duration and Stress Level\n",
    "Sleep_Duration = df[\"Sleep Duration\"]\n",
    "Quality_of_Sleep = df[\"Quality of Sleep\"]\n",
    "\n",
    "plt.xlabel(\"Quality of Sleep\")\n",
    "plt.ylabel(\"Sleep Duration\")\n",
    "plt.scatter(Sleep_Duration, Quality_of_Sleep)\n",
    "plt.title('Correlation Plot')\n",
    "plt.show()"
   ]
  },
  {
   "cell_type": "markdown",
   "id": "1b396dd0-ff2c-4663-ac05-e4dd736a0ec9",
   "metadata": {},
   "source": [
    "#### Normal sleeping time is 7-8 hours  \n",
    "#### The plot proves that the closer the duration of sleep aligns with the normal sleeping time, the better individuals tend to feel better"
   ]
  },
  {
   "cell_type": "markdown",
   "id": "b5b18eb1-aae3-40cf-9ce8-756c2d5dff49",
   "metadata": {},
   "source": [
    "### Correlation Coefficient  \n",
    "The correlation coefficient measures the relationship between two variables.  \n",
    "The correlation coefficient can never be less than -1 or higher than 1.  \n",
    "- 1 is a perfect positive correlation\n",
    "- 0 is no correlation (the values don't seem linked at all)\n",
    "- -1 is a perfect negative correlation"
   ]
  },
  {
   "cell_type": "code",
   "execution_count": 7,
   "id": "89f9d8f5-f3bd-4be1-b3d0-782a08288cf9",
   "metadata": {},
   "outputs": [
    {
     "data": {
      "text/plain": [
       "array([[1.      , 0.883213],\n",
       "       [0.883213, 1.      ]])"
      ]
     },
     "execution_count": 7,
     "metadata": {},
     "output_type": "execute_result"
    }
   ],
   "source": [
    "# We have corrcoef() function in Numpy to calculate correlation coefficiency\n",
    "sleep_corrcof = np.corrcoef(Sleep_Duration, Quality_of_Sleep)\n",
    "sleep_corrcof"
   ]
  },
  {
   "cell_type": "markdown",
   "id": "41252cc0-9a66-4f87-96e2-2407ed88a68e",
   "metadata": {},
   "source": [
    "That shows that there is High positive correlation between Sleep Duration and Quality of sleep"
   ]
  },
  {
   "cell_type": "markdown",
   "id": "13974030-9d5c-46e6-a8c0-91988490a6e5",
   "metadata": {
    "jp-MarkdownHeadingCollapsed": true
   },
   "source": [
    "## **Correlation Matrix**"
   ]
  },
  {
   "cell_type": "markdown",
   "id": "95ffde2f-a8a8-414f-aee7-e98a3cc9c69f",
   "metadata": {},
   "source": [
    "### A correlation matrix is simply a table showing the correlation coefficients between variables."
   ]
  },
  {
   "cell_type": "code",
   "execution_count": 8,
   "id": "23c13916-5b3e-4414-94ba-8c54ed4f6407",
   "metadata": {},
   "outputs": [
    {
     "data": {
      "text/html": [
       "<div>\n",
       "<style scoped>\n",
       "    .dataframe tbody tr th:only-of-type {\n",
       "        vertical-align: middle;\n",
       "    }\n",
       "\n",
       "    .dataframe tbody tr th {\n",
       "        vertical-align: top;\n",
       "    }\n",
       "\n",
       "    .dataframe thead th {\n",
       "        text-align: right;\n",
       "    }\n",
       "</style>\n",
       "<table border=\"1\" class=\"dataframe\">\n",
       "  <thead>\n",
       "    <tr style=\"text-align: right;\">\n",
       "      <th></th>\n",
       "      <th>Age</th>\n",
       "      <th>Sleep Duration</th>\n",
       "      <th>Quality of Sleep</th>\n",
       "      <th>Physical Activity Level</th>\n",
       "      <th>Stress Level</th>\n",
       "      <th>Heart Rate</th>\n",
       "      <th>Daily Steps</th>\n",
       "    </tr>\n",
       "  </thead>\n",
       "  <tbody>\n",
       "    <tr>\n",
       "      <th>Age</th>\n",
       "      <td>1.000000</td>\n",
       "      <td>0.344709</td>\n",
       "      <td>0.473734</td>\n",
       "      <td>0.178993</td>\n",
       "      <td>-0.422344</td>\n",
       "      <td>-0.225606</td>\n",
       "      <td>0.057973</td>\n",
       "    </tr>\n",
       "    <tr>\n",
       "      <th>Sleep Duration</th>\n",
       "      <td>0.344709</td>\n",
       "      <td>1.000000</td>\n",
       "      <td>0.883213</td>\n",
       "      <td>0.212360</td>\n",
       "      <td>-0.811023</td>\n",
       "      <td>-0.516455</td>\n",
       "      <td>-0.039533</td>\n",
       "    </tr>\n",
       "    <tr>\n",
       "      <th>Quality of Sleep</th>\n",
       "      <td>0.473734</td>\n",
       "      <td>0.883213</td>\n",
       "      <td>1.000000</td>\n",
       "      <td>0.192896</td>\n",
       "      <td>-0.898752</td>\n",
       "      <td>-0.659865</td>\n",
       "      <td>0.016791</td>\n",
       "    </tr>\n",
       "    <tr>\n",
       "      <th>Physical Activity Level</th>\n",
       "      <td>0.178993</td>\n",
       "      <td>0.212360</td>\n",
       "      <td>0.192896</td>\n",
       "      <td>1.000000</td>\n",
       "      <td>-0.034134</td>\n",
       "      <td>0.136971</td>\n",
       "      <td>0.772723</td>\n",
       "    </tr>\n",
       "    <tr>\n",
       "      <th>Stress Level</th>\n",
       "      <td>-0.422344</td>\n",
       "      <td>-0.811023</td>\n",
       "      <td>-0.898752</td>\n",
       "      <td>-0.034134</td>\n",
       "      <td>1.000000</td>\n",
       "      <td>0.670026</td>\n",
       "      <td>0.186829</td>\n",
       "    </tr>\n",
       "    <tr>\n",
       "      <th>Heart Rate</th>\n",
       "      <td>-0.225606</td>\n",
       "      <td>-0.516455</td>\n",
       "      <td>-0.659865</td>\n",
       "      <td>0.136971</td>\n",
       "      <td>0.670026</td>\n",
       "      <td>1.000000</td>\n",
       "      <td>-0.030309</td>\n",
       "    </tr>\n",
       "    <tr>\n",
       "      <th>Daily Steps</th>\n",
       "      <td>0.057973</td>\n",
       "      <td>-0.039533</td>\n",
       "      <td>0.016791</td>\n",
       "      <td>0.772723</td>\n",
       "      <td>0.186829</td>\n",
       "      <td>-0.030309</td>\n",
       "      <td>1.000000</td>\n",
       "    </tr>\n",
       "  </tbody>\n",
       "</table>\n",
       "</div>"
      ],
      "text/plain": [
       "                              Age  Sleep Duration  Quality of Sleep  \\\n",
       "Age                      1.000000        0.344709          0.473734   \n",
       "Sleep Duration           0.344709        1.000000          0.883213   \n",
       "Quality of Sleep         0.473734        0.883213          1.000000   \n",
       "Physical Activity Level  0.178993        0.212360          0.192896   \n",
       "Stress Level            -0.422344       -0.811023         -0.898752   \n",
       "Heart Rate              -0.225606       -0.516455         -0.659865   \n",
       "Daily Steps              0.057973       -0.039533          0.016791   \n",
       "\n",
       "                         Physical Activity Level  Stress Level  Heart Rate  \\\n",
       "Age                                     0.178993     -0.422344   -0.225606   \n",
       "Sleep Duration                          0.212360     -0.811023   -0.516455   \n",
       "Quality of Sleep                        0.192896     -0.898752   -0.659865   \n",
       "Physical Activity Level                 1.000000     -0.034134    0.136971   \n",
       "Stress Level                           -0.034134      1.000000    0.670026   \n",
       "Heart Rate                              0.136971      0.670026    1.000000   \n",
       "Daily Steps                             0.772723      0.186829   -0.030309   \n",
       "\n",
       "                         Daily Steps  \n",
       "Age                         0.057973  \n",
       "Sleep Duration             -0.039533  \n",
       "Quality of Sleep            0.016791  \n",
       "Physical Activity Level     0.772723  \n",
       "Stress Level                0.186829  \n",
       "Heart Rate                 -0.030309  \n",
       "Daily Steps                 1.000000  "
      ]
     },
     "execution_count": 8,
     "metadata": {},
     "output_type": "execute_result"
    }
   ],
   "source": [
    "# Here is an correlation matrix of dataset\n",
    "corr_matrix = df[['Age','Sleep Duration', 'Quality of Sleep', 'Physical Activity Level', 'Stress Level', 'Heart Rate', 'Daily Steps']].corr()\n",
    "corr_matrix"
   ]
  },
  {
   "cell_type": "code",
   "execution_count": 9,
   "id": "006c6b6a-fc30-4d3e-aa60-69bec5526780",
   "metadata": {},
   "outputs": [
    {
     "data": {
      "image/png": "[encoded data removed]",
      "text/plain": [
       "<Figure size 640x480 with 2 Axes>"
      ]
     },
     "metadata": {},
     "output_type": "display_data"
    }
   ],
   "source": [
    "# Or we can visialize correlation matrix with seaborn heatmap\n",
    "correlation_full_health = df[['Age','Sleep Duration', 'Quality of Sleep', 'Physical Activity Level', 'Stress Level', 'Heart Rate', 'Daily Steps']].corr()\n",
    "\n",
    "axis_corr = sns.heatmap(correlation_full_health, vmin=-1, vmax=1, center=0, square=True, cmap=sns.diverging_palette(50, 500, n=500))\n",
    "plt.show()"
   ]
  },
  {
   "cell_type": "markdown",
   "id": "ff983a8c-7d5e-4bdc-a305-8f1d63dbf726",
   "metadata": {
    "jp-MarkdownHeadingCollapsed": true
   },
   "source": [
    "## **Correlation vs Causality**"
   ]
  },
  {
   "cell_type": "markdown",
   "id": "412fe9a8-5459-42f3-ad91-6aefe4518385",
   "metadata": {},
   "source": [
    "### Correlation Does Not Imply Causality"
   ]
  },
  {
   "cell_type": "markdown",
   "id": "c6727ab7-c31c-45f2-925a-a7b7ee37114f",
   "metadata": {},
   "source": [
    "#### Correlation is a statistical measure (expressed as a number) that describes the size and direction of a relationship between two or more variables. A correlation between variables, however, does not automatically mean that the change in one variable is the cause of the change in the values of the other variable.  \n",
    "#### Causation indicates that one event is the result of the occurrence of the other event; i.e. there is a causal relationship between the two events. This is also referred to as cause and effect.\r\n",
    "\r\n"
   ]
  },
  {
   "cell_type": "markdown",
   "id": "a9742999-851f-48d0-b851-c54194f3f63c",
   "metadata": {},
   "source": [
    "### Example: Correlation between Stress level and Heart Rate"
   ]
  },
  {
   "cell_type": "markdown",
   "id": "49c9dea5-b162-4d0e-b5ee-9fea04470968",
   "metadata": {},
   "source": [
    "High stress levels can be caused by a variety of factors: \n",
    "- Work-related stress\n",
    "- Personal relationships\n",
    "- Financial problems\n",
    "- Health issues  \n",
    "Good heart rate does not imply low stress level, they have close correlation.  "
   ]
  },
  {
   "cell_type": "code",
   "execution_count": 16,
   "id": "a5395890-463f-45c1-89fd-f99e0d90b50b",
   "metadata": {},
   "outputs": [
    {
     "data": {
      "image/png": "[encoded data removed]",
      "text/plain": [
       "<Figure size 640x480 with 1 Axes>"
      ]
     },
     "metadata": {},
     "output_type": "display_data"
    }
   ],
   "source": [
    "stress_level = df[\"Stress Level\"]\n",
    "heart_rate = df[\"Heart Rate\"]\n",
    "\n",
    "plt.scatter(heart_rate, stress_level)\n",
    "plt.show()"
   ]
  }
 ],
 "metadata": {
  "kernelspec": {
   "display_name": "Python 3 (ipykernel)",
   "language": "python",
   "name": "python3"
  },
  "language_info": {
   "codemirror_mode": {
    "name": "ipython",
    "version": 3
   },
   "file_extension": ".py",
   "mimetype": "text/x-python",
   "name": "python",
   "nbconvert_exporter": "python",
   "pygments_lexer": "ipython3",
   "version": "3.11.7"
  }
 },
 "nbformat": 4,
 "nbformat_minor": 5
}
